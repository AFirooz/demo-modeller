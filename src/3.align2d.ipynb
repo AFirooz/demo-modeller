{
 "cells": [
  {
   "cell_type": "code",
   "execution_count": 4,
   "metadata": {},
   "outputs": [],
   "source": [
    "from modeller import *\n",
    "from pathlib import Path\n",
    "\n",
    "\n",
    "pdb = '3kc6'\n",
    "chain = 'A'\n",
    "pdb_file = str(Path('../data/pdb') / f\"{pdb}.pdb\")\n",
    "\n",
    "target = 'Assign_3'\n",
    "target_file = str(Path('../data/structure_search') / f\"{target}.ali\")\n",
    "\n",
    "output = Path('../data/align2d')\n",
    "output.mkdir(exist_ok=True)"
   ]
  },
  {
   "cell_type": "code",
   "execution_count": 2,
   "metadata": {},
   "outputs": [
    {
     "name": "stdout",
     "output_type": "stream",
     "text": [
      "\n",
      "                         MODELLER 10.6, 2024/10/17, r12888\n",
      "\n",
      "     PROTEIN STRUCTURE MODELLING BY SATISFACTION OF SPATIAL RESTRAINTS\n",
      "\n",
      "\n",
      "                     Copyright(c) 1989-2024 Andrej Sali\n",
      "                            All Rights Reserved\n",
      "\n",
      "                             Written by A. Sali\n",
      "                               with help from\n",
      "              B. Webb, M.S. Madhusudhan, M-Y. Shen, G.Q. Dong,\n",
      "          M.A. Marti-Renom, N. Eswar, F. Alber, M. Topf, B. Oliva,\n",
      "             A. Fiser, R. Sanchez, B. Yerkovich, A. Badretdinov,\n",
      "                     F. Melo, J.P. Overington, E. Feyfant\n",
      "                 University of California, San Francisco, USA\n",
      "                    Rockefeller University, New York, USA\n",
      "                      Harvard University, Cambridge, USA\n",
      "                   Imperial Cancer Research Fund, London, UK\n",
      "              Birkbeck College, University of London, London, UK\n",
      "\n",
      "\n",
      "Kind, OS, HostName, Kernel, Processor: 4, Linux gpuless 6.8.0-49-generic x86_64\n",
      "Date and time of compilation         : 2024/10/17 20:43:03\n",
      "MODELLER executable type             : x86_64-intel8\n",
      "Job starting time (YY/MM/DD HH:MM:SS): 2024/12/12 04:08:30\n",
      "\n"
     ]
    },
    {
     "data": {
      "text/plain": [
       "0"
      ]
     },
     "execution_count": 2,
     "metadata": {},
     "output_type": "execute_result"
    }
   ],
   "source": [
    "env = Environ()\n",
    "aln = Alignment(env)\n",
    "mdl = Model(env, file=pdb_file, model_segment=(f'FIRST:{chain}', f'LAST:{chain}'))\n",
    "\n",
    "aln.append_model(mdl, align_codes=pdb+chain, atom_files=pdb_file)\n",
    "aln.append(file=target_file, align_codes=target)\n"
   ]
  },
  {
   "cell_type": "code",
   "execution_count": 3,
   "metadata": {},
   "outputs": [
    {
     "name": "stdout",
     "output_type": "stream",
     "text": [
      "mkapsa__637W> No residue topology library is in memory.\n",
      "              Better radii would be used if topology.read() is called first.\n",
      "iup2crm_280W> No topology library in memory or assigning a BLK residue.\n",
      "              Default CHARMM atom type assigned:  N -->  N\n",
      "              This message is written only for the first such atom.\n",
      "\n",
      "Pairwise dynamic programming alignment (ALIGN2D):\n",
      "  Residue-residue metric   : $(LIB)/as1.sim.mat\n",
      "  Diagonal                 :          100\n",
      "  Overhang                 :            0\n",
      "  Maximal gap length       :           50\n",
      "  Local alignment          :            F\n",
      "  MATRIX_OFFSET (local aln):       0.0000\n",
      "  FIX_OFFSETS              :      0.0    -1.0    -2.0    -3.0    -4.0\n",
      "  N_SUBOPT                 :            0\n",
      "  SUBOPT_OFFSET            :       0.0000\n",
      "  Alignment block          :            1\n",
      "  Gap introduction penalty :    -100.0000\n",
      "  Gap extension penalty    :       0.0000\n",
      "  Gap diagonal penalty     :       0.0000\n",
      "  Structure gap penalties  :    3.500   3.500   3.500   0.200   4.000   6.500   2.000   0.000\n",
      "  Break-break bonus        :   10000.0000\n",
      "  Length of alignment      :          759\n",
      "  Score                    :  145290.4844\n"
     ]
    }
   ],
   "source": [
    "aln.align2d(max_gap_length=50)"
   ]
  },
  {
   "cell_type": "code",
   "execution_count": 5,
   "metadata": {},
   "outputs": [],
   "source": [
    "aln.write(file=str(output / f'{target}-{pdb}.ali'), alignment_format='PIR')\n",
    "aln.write(file=str(output / f'{target}-{pdb}.pap'), alignment_format='PAP')"
   ]
  }
 ],
 "metadata": {
  "kernelspec": {
   "display_name": "usr",
   "language": "python",
   "name": "python3"
  },
  "language_info": {
   "codemirror_mode": {
    "name": "ipython",
    "version": 3
   },
   "file_extension": ".py",
   "mimetype": "text/x-python",
   "name": "python",
   "nbconvert_exporter": "python",
   "pygments_lexer": "ipython3",
   "version": "3.10.12"
  }
 },
 "nbformat": 4,
 "nbformat_minor": 2
}
