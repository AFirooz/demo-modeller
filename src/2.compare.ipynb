{
 "cells": [
  {
   "cell_type": "code",
   "execution_count": null,
   "metadata": {},
   "outputs": [],
   "source": [
    "# do not run after filtering the templates you want to use.\n",
    "# !\"./2.download_pdb.sh\""
   ]
  },
  {
   "cell_type": "markdown",
   "metadata": {},
   "source": [
    "- Note that the code names in `build_profile.prf` (like \"5ef9A\"), is actually the protein code name (\"5ef9\") + the chain (\"A\").\n",
    "\n",
    "- To filter out some of the templates, set them into \"FAILED\" in the \"pdb_codes.txt\" file.\n",
    "\n",
    "- To select the most appropriate template for our query sequence over the similar structures, we will use the `Alignment.compare_structures()` command to assess the structural and sequence similarity between the possible templates."
   ]
  },
  {
   "cell_type": "code",
   "execution_count": null,
   "metadata": {},
   "outputs": [],
   "source": [
    "from modeller import *\n",
    "from pathlib import Path\n",
    "\n",
    "\n",
    "pdb_dir = Path('../data/pdb')"
   ]
  },
  {
   "cell_type": "code",
   "execution_count": null,
   "metadata": {},
   "outputs": [],
   "source": [
    "# get the pdb and chain\n",
    "with open(pdb_dir/'pdb_codes.txt', 'r') as f:\n",
    "    pdbs = f.read().splitlines()\n",
    "\n",
    "pdbs = [pdb.split()[:3] for pdb in pdbs if len(pdb) > 0]\n",
    "pdbs = [pdb for pdb in pdbs if pdb[2] != 'FAILED']\n",
    "\n",
    "print(len(pdbs))\n",
    "pdbs\n"
   ]
  },
  {
   "cell_type": "code",
   "execution_count": null,
   "metadata": {},
   "outputs": [],
   "source": [
    "env = Environ()\n",
    "aln = Alignment(env)\n",
    "\n",
    "for (pdb, chain, _) in pdbs:\n",
    "    pdb_file = str(pdb_dir/pdb)\n",
    "    m = Model(env, file=pdb_file, model_segment=('FIRST:'+chain, 'LAST:'+chain))\n",
    "    aln.append_model(m, atom_files=pdb_file, align_codes=pdb+chain)\n"
   ]
  },
  {
   "cell_type": "code",
   "execution_count": null,
   "metadata": {},
   "outputs": [],
   "source": [
    "# improve the alignment by calculating multiple sequence alignment\n",
    "aln.malign()\n"
   ]
  },
  {
   "cell_type": "code",
   "execution_count": null,
   "metadata": {},
   "outputs": [],
   "source": [
    "# do least-squares superposition of the 3D structures, using the multiple sequence alignment as its starting point\n",
    "aln.malign3d()"
   ]
  },
  {
   "cell_type": "code",
   "execution_count": null,
   "metadata": {},
   "outputs": [],
   "source": [
    "\n",
    "aln.compare_structures()\n",
    "aln.id_table(matrix_file='family.mat')\n",
    "env.dendrogram(matrix_file='family.mat', cluster_cut=-1.0)"
   ]
  },
  {
   "cell_type": "code",
   "execution_count": null,
   "metadata": {},
   "outputs": [],
   "source": [
    "for (pdb, chain) in (('1b8p', 'A'), ('1bdm', 'A'), ('1civ', 'A'),\n",
    "                     ('5mdh', 'A'), ('7mdh', 'A'), ('1smk', 'A')):\n",
    "    m = Model(env, file=pdb, model_segment=('FIRST:'+chain, 'LAST:'+chain))\n",
    "    aln.append_model(m, atom_files=pdb, align_codes=pdb+chain)\n",
    "aln.malign()\n",
    "aln.malign3d()\n",
    "aln.compare_structures()\n",
    "aln.id_table(matrix_file='family.mat')\n",
    "env.dendrogram(matrix_file='family.mat', cluster_cut=-1.0)"
   ]
  }
 ],
 "metadata": {
  "kernelspec": {
   "display_name": "usr",
   "language": "python",
   "name": "python3"
  },
  "language_info": {
   "codemirror_mode": {
    "name": "ipython",
    "version": 3
   },
   "file_extension": ".py",
   "mimetype": "text/x-python",
   "name": "python",
   "nbconvert_exporter": "python",
   "pygments_lexer": "ipython3",
   "version": "3.10.12"
  }
 },
 "nbformat": 4,
 "nbformat_minor": 2
}
